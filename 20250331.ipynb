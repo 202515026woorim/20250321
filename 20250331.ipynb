{
  "nbformat": 4,
  "nbformat_minor": 0,
  "metadata": {
    "colab": {
      "provenance": [],
      "authorship_tag": "ABX9TyPWFpTD45SlvJOWqisVB3Wd",
      "include_colab_link": true
    },
    "kernelspec": {
      "name": "python3",
      "display_name": "Python 3"
    },
    "language_info": {
      "name": "python"
    }
  },
  "cells": [
    {
      "cell_type": "markdown",
      "metadata": {
        "id": "view-in-github",
        "colab_type": "text"
      },
      "source": [
        "<a href=\"https://colab.research.google.com/github/202515026woorim/20250321/blob/main/20250331.ipynb\" target=\"_parent\"><img src=\"https://colab.research.google.com/assets/colab-badge.svg\" alt=\"Open In Colab\"/></a>"
      ]
    },
    {
      "cell_type": "code",
      "execution_count": 1,
      "metadata": {
        "colab": {
          "base_uri": "https://localhost:8080/"
        },
        "id": "0b-tyoQOSh5N",
        "outputId": "7de5f8c4-30d7-42b4-a934-e2618009e0a6"
      },
      "outputs": [
        {
          "output_type": "stream",
          "name": "stdout",
          "text": [
            "첫 번째 벡터의 x 성분을 입력하세요: 2\n",
            "첫 번째 벡터의 y 성분을 입력하세요: 3\n",
            "두 번째 벡터의 x 성분을 입력하세요: 4\n",
            "두 번째 벡터의 y 성분을 입력하세요: 5\n",
            "\n",
            "벡터 1: 2.0 i + 3.0 j\n",
            "벡터 2: 4.0 i + 5.0 j\n",
            "\n",
            "벡터의 합: 6.0 i + 8.0 j\n",
            "벡터의 내적: 23.0\n",
            "벡터의 외적: -2.0\n"
          ]
        }
      ],
      "source": [
        "\n",
        "x1 = float(input(\"첫 번째 벡터의 x 성분을 입력하세요: \"))\n",
        "y1 = float(input(\"첫 번째 벡터의 y 성분을 입력하세요: \"))\n",
        "\n",
        "x2 = float(input(\"두 번째 벡터의 x 성분을 입력하세요: \"))\n",
        "y2 = float(input(\"두 번째 벡터의 y 성분을 입력하세요: \"))\n",
        "\n",
        "sum_x = x1 + x2\n",
        "sum_y = y1 + y2\n",
        "\n",
        "dot_product = x1 * x2 + y1 * y2\n",
        "\n",
        "cross_product = x1 * y2 - y1 * x2\n",
        "\n",
        "print(\"\\n벡터 1:\", x1, \"i +\", y1, \"j\")\n",
        "print(\"벡터 2:\", x2, \"i +\", y2, \"j\")\n",
        "\n",
        "print(\"\\n벡터의 합:\", sum_x, \"i +\", sum_y, \"j\")\n",
        "print(\"벡터의 내적:\", dot_product)\n",
        "print(\"벡터의 외적:\", cross_product)"
      ]
    },
    {
      "cell_type": "code",
      "source": [
        "\n",
        "x1 = float(input(\"첫 번째 벡터의 x 성분을 입력하세요: \"))\n",
        "y1 = float(input(\"첫 번째 벡터의 y 성분을 입력하세요: \"))\n",
        "z1 = float(input(\"첫 번째 벡터의 z 성분을 입력하세요: \"))\n",
        "\n",
        "x2 = float(input(\"두 번째 벡터의 x 성분을 입력하세요: \"))\n",
        "y2 = float(input(\"두 번째 벡터의 y 성분을 입력하세요: \"))\n",
        "z2 = float(input(\"두 번째 벡터의 z 성분을 입력하세요: \"))\n",
        "\n",
        "sum_x = x1 + x2\n",
        "sum_y = y1 + y2\n",
        "sum_z = z1 + z2\n",
        "\n",
        "dot_product = x1 * x2 + y1 * y2 + z1 * z2\n",
        "\n",
        "cross_product_x = y1 * z2 - z1 * y2\n",
        "cross_product_y = z1 * x2 - x1 * z2\n",
        "cross_product_z = x1 * y2 - y1 * x2\n",
        "\n",
        "print(\"\\n벡터 1:\", x1, \"i +\", y1, \"j +\", z1, \"k\")\n",
        "print(\"벡터 2:\", x2, \"i +\", y2, \"j +\", z2, \"k\")\n",
        "\n",
        "print(\"\\n벡터의 합:\", sum_x, \"i +\", sum_y, \"j +\", sum_z, \"k\")\n",
        "print(\"벡터의 내적:\", dot_product)\n",
        "print(\"벡터의 외적:\", cross_product_x, \"i +\", cross_product_y, \"j +\", cross_product_z, \"k\")"
      ],
      "metadata": {
        "colab": {
          "base_uri": "https://localhost:8080/"
        },
        "id": "MDG4CdjWUW9E",
        "outputId": "40e9f416-d69d-4fcb-e4b5-2095127f1da3"
      },
      "execution_count": 2,
      "outputs": [
        {
          "output_type": "stream",
          "name": "stdout",
          "text": [
            "첫 번째 벡터의 x 성분을 입력하세요: 2\n",
            "첫 번째 벡터의 y 성분을 입력하세요: 3\n",
            "첫 번째 벡터의 z 성분을 입력하세요: 4\n",
            "두 번째 벡터의 x 성분을 입력하세요: 5\n",
            "두 번째 벡터의 y 성분을 입력하세요: 6\n",
            "두 번째 벡터의 z 성분을 입력하세요: 7\n",
            "\n",
            "벡터 1: 2.0 i + 3.0 j + 4.0 k\n",
            "벡터 2: 5.0 i + 6.0 j + 7.0 k\n",
            "\n",
            "벡터의 합: 7.0 i + 9.0 j + 11.0 k\n",
            "벡터의 내적: 56.0\n",
            "벡터의 외적: -3.0 i + 6.0 j + -3.0 k\n"
          ]
        }
      ]
    },
    {
      "cell_type": "code",
      "source": [],
      "metadata": {
        "id": "sBRiRcgjUY_i"
      },
      "execution_count": null,
      "outputs": []
    }
  ]
}